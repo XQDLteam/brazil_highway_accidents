{
 "cells": [
  {
   "cell_type": "markdown",
   "metadata": {},
   "source": [
    "# Acidentes de trânsito na *highway* brasileira (BR)\n",
    "\n",
    "A Polícia Rodoviária Federal - PRF (Anteriormente com a denominação \"Polícia das Estradas\") foi criada pelo presidente Washington Luís no [Decreto nº 18.323, de 24 de Julho de 1928](https://www2.camara.leg.br/legin/fed/decret/1920-1929/decreto-18323-24-julho-1928-516789-publicacaooriginal-1-pe.html#:~:text=DECRETA%3A,conformidade%20com%20o%20decreto%20n.) - que definia as regras de trânsito daquele tempo.\n",
    "\n",
    "Com o advento da Constituição brasileira de 1998, a PRF foi instituicionalizada e integrada ao Sistema Nacional de Segurança Publica. Inserino no Art. 144, do Título V - Da Defesa do Estado e das Instituições Democráticas, Capítulo III - Da Segurança Pública, a PRF definitivamente ganhou o status permanente de uma instituição Estatal, agindo no policiamento e inspecionamento de rodoviais e áreas de interesse da União.\n",
    "\n",
    "A sede da PRF estão localizadas em Brasília, Distrito Federal. Atualmente, há 27 divisões regionais que estão responsáveis por inspecionar e policiar mais de 70000km de rodovias federais e várias áreas de interesse da União.\n",
    "\n",
    "Sua missão é \"Promover a prosperidade da Naão e garantir a segurança pública e mobilidade no Brasil\".\n",
    "\n",
    "(Texto retirado e adaptado do [website da Polícia Rodoviária Federal](https://www.gov.br/prf/pt-br/acesso-a-informacao/institucional-1]))\n",
    "\n",
    "### Aquisição dos dados\n",
    "Os conjuntos de dados correspondem ao período de 2007 a 2020 e foram disponibilizados através da [plataforma Kaggle](https://www.kaggle.com/mcamera/brazil-highway-traffic-accidents). Estes foram extraídos diretamente do [website da PRF](https://www.gov.br/prf/pt-br/acesso-a-informacao/dados-abertos/dados-abertos-acidentes),\n",
    "\n",
    "Esses dados são divididos em arquivos .CSV anuais e o ultimo arquivo (ano atual) é atualizado mensalmente.\n",
    "\n",
    "Os dados são disponibilizados em 3 grupos:\n",
    "\n",
    "1. Agrupados por ocorrencia - (arquivos como datatranANO.csv)\n",
    "2. Agrupados por pessoa - (arquivos como acidentesANO.csv)\n",
    "3. Agrupados por pessoa - Todas as causas e tipos de acidentes (a partir de 2017) - (arquivos como acidentesANO\\_todascausas\\_tipos)\n",
    "\n",
    "Os dados são provenientes dos sistemas BR-Brasil e Boletim de Acidente de Trânsito (BAT), com as seguintes considerações:\n",
    "* O sistema BR-Brasil foi usado em nivel nacional entre 2007 a 2016. Os acidentes foram armazenados usando o sistema BR-Brasil. Nesse sistema o policial responsável pela ocorrencia insere os dados relacionados aos involvidos, localização, veículos e a dinâmica do acidente.\n",
    "\n",
    "* A partir de janeiro de 2017, o sistema BR-Brasil foi descontinuado e a PRF começou a utilizar um novo sistema para armazenar as ocorrências de acidentes, o sistema BAT.\n",
    "\n",
    "\n",
    "### *overview* dos dados por ocorrência\n",
    "\n",
    "**De 2007 até 2016:** \n",
    "\n",
    "| Nome da variável       | Descricao                                                                                                     |\n",
    "|------------------------|---------------------------------------------------------------------------------------------------------------|\n",
    "| id                     | Variável com valores numéricos, representando o identificador do acidente                                     |\n",
    "| data_inversa           | Data da ocorrência no formato dd/mm/aaaa.                                                                     |\n",
    "| dia_semana             | Dia da semana da ocorrência. Ex.: Segunda, Terça, etc                                                         |\n",
    "| horario                | Horário da ocorrência no formato hh:mm:ss.                                                                    |\n",
    "| uf                     | Unidade da Federação. Ex.: MG, PE, DF, etc.                                                                   |\n",
    "| br                     | Variável com valores numéricos representando o identificador da BR do acidente                                |\n",
    "| municipio              | Nome do município de ocorrência do acidente.                                                                  |\n",
    "| causa_acidente         | Identificação da causa presumível do acidente. Ex.: Falta de atenção, Velocidade incompatível, etc.           |\n",
    "| tipo_acidente          | Identificação do tipo de acidente. Ex.: Colisão frontal, Saída de pista,etc                                   |\n",
    "| classificação_acidente | Classificação quanto à gravidade do acidente: Sem Vítimas, Com Vítimas Feridas, Com Vítimas Fatais e Ignorado |\n",
    "| fase_dia               | Fase do dia no momento do acidente. Ex. Amanhecer, Pleno dia, etc.                                            |\n",
    "| sentido_via            | Sentido da via considerando o ponto de colisão: Crescente e decrescente.                                      |\n",
    "| condição_meteorologica | Condição meteorológica no momento do acidente: Céu claro, chuva,vento,etc.                                    |\n",
    "| tipo_pista             | Tipo da pista considerando a quantidade de faixas:Dupla,simples ou múltipla.                                  |\n",
    "| tracado_via            | Descrição do traçado da via: reta, curva ou cruzamento.                                                       |\n",
    "| uso_solo               | Descrição sobre as características do local do acidente: Urbano ou rural.                                     |\n",
    "| pessoas                | Total de pessoas envolvidas na ocorrência.                                                                    |\n",
    "| mortos                 | Total de pessoas mortas envolvidas na ocorrência.                                                             |\n",
    "| feridos_leves          | Total de pessoas com ferimentos leves envolvidas na ocorrência.                                               |\n",
    "| feridos_graves         | Total de pessoas com ferimentos graves envolvidas na ocorrência.                                              |\n",
    "| Ilesos                 | Total de pessoas ilesas envolvidas na ocorrência.                                                             |\n",
    "| Ignorados              | Total de pessoas envolvidas na ocorrência e que não se soube o estado físico.                                 |\n",
    "| feridos                | Total de pessoas feridas envolvidas na ocorrência (é a soma dos feridos leves com os graves).                 |\n",
    "| veiculos               | Total de veículos envolvidos na ocorrência.                                                                   |\n",
    "\n",
    "**De 20017 até 2020:** \n",
    "Acrescimo dos seguintes campos\n",
    "\n",
    "| Nome da variável       | Descricao                                                                                                     |\n",
    "|------------------------|---------------------------------------------------------------------------------------------------------------|\n",
    "| latitude                     | Latitude do local do acidente em formato geodésico decimal.                                    |\n",
    "| longitude           | Longitude do local do acidente em formato geodésico decimal  \n",
    "| regional               | Código da regional da PRF.                                                                   |\n",
    "| delegacia               | Código da delegacia que registrou a ocorrência.                                                                   |\n",
    "| uop               | --- |                                                                   |\n",
    "\n",
    "\n",
    "### *Algumas questões / hipóteses pertinentes sobre os dados*\n",
    "\n",
    "**Questões informativas/descritivas**\n",
    "\n",
    " - 1) Quais dias da semana em que ocorrem mais acidentes em todo Brasil?\n",
    "\n",
    " - 2) Quais meses ocorreram mais acidentes em todo Brasil? \n",
    "\n",
    " - 3) Que tipos de acidentes tem maior ocorrência em todo Brasil? \n",
    "\n",
    " - 4) Quais causas levaram a ocorrer mais acidentes no Brasil? \n",
    "\n",
    " - 5) Que tipos de veículos mais se envolvem em acidentes? (motocicletas, automóveis ou caminhões)\n",
    "\n",
    " - 6) Quais as marcas de veículos que se envolvem em acidentes por falha mecânica?\n",
    "\n",
    " - 7) Veículos novos ou antigos se envolvem em mais acidentes?\n",
    "\n",
    " - 8) Onde e em que condições precisamos ter mais atenção no trânsito?\n",
    "\n",
    " - 9) Qual a faixa etária que mais se envolve em acidente?\n",
    "\n",
    " - 10) Quais as causas de acidentes com maior taxa de mortalidade?\n",
    "\n",
    "\n",
    "**Hipoteses**\n",
    "\n",
    " - 1) Os \"horários de pico\" são mais perigosos para transitar? Os horários diurnos são mais perigosos para transitar nos períodos noturnos.\n",
    "\n",
    " - 2) Vésperas de datas comemorativas possuem um maior índice de acidentes (Brasil e RS).\n",
    "\n",
    " - 3) A faixa etária de 20 - 30 anos é que mais se envolve em acidente causado por consumo alcoólico."
   ]
  },
  {
   "cell_type": "markdown",
   "metadata": {},
   "source": [
    "# 0. Importação das bibliotecas"
   ]
  },
  {
   "cell_type": "code",
   "execution_count": 11,
   "metadata": {},
   "outputs": [],
   "source": [
    "import pandas as pd\n",
    "import numpy as np\n",
    "\n",
    "import matplotlib.pyplot as plt\n",
    "import seaborn as sns"
   ]
  },
  {
   "cell_type": "markdown",
   "metadata": {},
   "source": [
    "# 1. Carregamento dos arquivos normalizados"
   ]
  },
  {
   "cell_type": "code",
   "execution_count": 12,
   "metadata": {},
   "outputs": [
    {
     "data": {
      "text/html": [
       "<div>\n",
       "<style scoped>\n",
       "    .dataframe tbody tr th:only-of-type {\n",
       "        vertical-align: middle;\n",
       "    }\n",
       "\n",
       "    .dataframe tbody tr th {\n",
       "        vertical-align: top;\n",
       "    }\n",
       "\n",
       "    .dataframe thead th {\n",
       "        text-align: right;\n",
       "    }\n",
       "</style>\n",
       "<table border=\"1\" class=\"dataframe\">\n",
       "  <thead>\n",
       "    <tr style=\"text-align: right;\">\n",
       "      <th></th>\n",
       "      <th>id</th>\n",
       "      <th>pesid</th>\n",
       "      <th>uf</th>\n",
       "      <th>id_veiculo</th>\n",
       "      <th>tipo_veiculo</th>\n",
       "      <th>marca</th>\n",
       "      <th>ano_fabricacao_veiculo</th>\n",
       "      <th>tipo_envolvido</th>\n",
       "      <th>estado_fisico</th>\n",
       "      <th>idade</th>\n",
       "      <th>sexo</th>\n",
       "    </tr>\n",
       "  </thead>\n",
       "  <tbody>\n",
       "    <tr>\n",
       "      <th>0</th>\n",
       "      <td>173720</td>\n",
       "      <td>446413</td>\n",
       "      <td>RS</td>\n",
       "      <td>328065</td>\n",
       "      <td>Automóvel</td>\n",
       "      <td>FIAT/UNO ELECTRONIC</td>\n",
       "      <td>1995</td>\n",
       "      <td>Condutor</td>\n",
       "      <td>Ileso</td>\n",
       "      <td>34</td>\n",
       "      <td>Masculino</td>\n",
       "    </tr>\n",
       "    <tr>\n",
       "      <th>1</th>\n",
       "      <td>173720</td>\n",
       "      <td>446416</td>\n",
       "      <td>RS</td>\n",
       "      <td>328067</td>\n",
       "      <td>Automóvel</td>\n",
       "      <td>CHEVROLET/KADETT SL/E EFI</td>\n",
       "      <td>1992</td>\n",
       "      <td>Condutor</td>\n",
       "      <td>Ileso</td>\n",
       "      <td>22</td>\n",
       "      <td>Masculino</td>\n",
       "    </tr>\n",
       "    <tr>\n",
       "      <th>2</th>\n",
       "      <td>173720</td>\n",
       "      <td>446419</td>\n",
       "      <td>RS</td>\n",
       "      <td>328069</td>\n",
       "      <td>Automóvel</td>\n",
       "      <td>RENAULT/CLIO EXP 16 16VH</td>\n",
       "      <td>2006</td>\n",
       "      <td>Condutor</td>\n",
       "      <td>Ileso</td>\n",
       "      <td>31</td>\n",
       "      <td>Masculino</td>\n",
       "    </tr>\n",
       "    <tr>\n",
       "      <th>3</th>\n",
       "      <td>173720</td>\n",
       "      <td>446425</td>\n",
       "      <td>RS</td>\n",
       "      <td>328070</td>\n",
       "      <td>Automóvel</td>\n",
       "      <td>CHEVROLET/VECTRA CD</td>\n",
       "      <td>1999</td>\n",
       "      <td>Condutor</td>\n",
       "      <td>Ileso</td>\n",
       "      <td>32</td>\n",
       "      <td>Masculino</td>\n",
       "    </tr>\n",
       "    <tr>\n",
       "      <th>4</th>\n",
       "      <td>173771</td>\n",
       "      <td>446584</td>\n",
       "      <td>RS</td>\n",
       "      <td>328148</td>\n",
       "      <td>Automóvel</td>\n",
       "      <td>CHEVROLET/MONZA CLASSIC SE EFI</td>\n",
       "      <td>1991</td>\n",
       "      <td>Condutor</td>\n",
       "      <td>Ferido Leve</td>\n",
       "      <td>22</td>\n",
       "      <td>Masculino</td>\n",
       "    </tr>\n",
       "  </tbody>\n",
       "</table>\n",
       "</div>"
      ],
      "text/plain": [
       "       id   pesid  uf  id_veiculo tipo_veiculo  \\\n",
       "0  173720  446413  RS      328065    Automóvel   \n",
       "1  173720  446416  RS      328067    Automóvel   \n",
       "2  173720  446419  RS      328069    Automóvel   \n",
       "3  173720  446425  RS      328070    Automóvel   \n",
       "4  173771  446584  RS      328148    Automóvel   \n",
       "\n",
       "                            marca  ano_fabricacao_veiculo tipo_envolvido  \\\n",
       "0             FIAT/UNO ELECTRONIC                    1995       Condutor   \n",
       "1       CHEVROLET/KADETT SL/E EFI                    1992       Condutor   \n",
       "2        RENAULT/CLIO EXP 16 16VH                    2006       Condutor   \n",
       "3             CHEVROLET/VECTRA CD                    1999       Condutor   \n",
       "4  CHEVROLET/MONZA CLASSIC SE EFI                    1991       Condutor   \n",
       "\n",
       "  estado_fisico  idade       sexo  \n",
       "0         Ileso     34  Masculino  \n",
       "1         Ileso     22  Masculino  \n",
       "2         Ileso     31  Masculino  \n",
       "3         Ileso     32  Masculino  \n",
       "4   Ferido Leve     22  Masculino  "
      ]
     },
     "execution_count": 12,
     "metadata": {},
     "output_type": "execute_result"
    }
   ],
   "source": [
    "cols = ['id', 'pesid', 'uf', 'id_veiculo', 'tipo_veiculo', 'marca', \n",
    "        'ano_fabricacao_veiculo', 'tipo_envolvido', 'estado_fisico', 'idade','sexo']\n",
    "\n",
    "df_pessoas = pd.read_csv('archive/csv_pessoas_normalizado.csv', sep=',', engine='python', encoding='latin-1', usecols=cols)\n",
    "df_pessoas.head()"
   ]
  },
  {
   "cell_type": "code",
   "execution_count": 13,
   "metadata": {},
   "outputs": [
    {
     "data": {
      "text/html": [
       "<div>\n",
       "<style scoped>\n",
       "    .dataframe tbody tr th:only-of-type {\n",
       "        vertical-align: middle;\n",
       "    }\n",
       "\n",
       "    .dataframe tbody tr th {\n",
       "        vertical-align: top;\n",
       "    }\n",
       "\n",
       "    .dataframe thead th {\n",
       "        text-align: right;\n",
       "    }\n",
       "</style>\n",
       "<table border=\"1\" class=\"dataframe\">\n",
       "  <thead>\n",
       "    <tr style=\"text-align: right;\">\n",
       "      <th></th>\n",
       "      <th>id</th>\n",
       "      <th>data_inversa</th>\n",
       "      <th>dia_semana</th>\n",
       "      <th>horario</th>\n",
       "      <th>uf</th>\n",
       "      <th>br</th>\n",
       "      <th>causa_acidente</th>\n",
       "      <th>tipo_acidente</th>\n",
       "      <th>fase_dia</th>\n",
       "      <th>condicao_metereologica</th>\n",
       "      <th>tracado_via</th>\n",
       "      <th>uso_solo</th>\n",
       "      <th>pessoas</th>\n",
       "      <th>mortos</th>\n",
       "      <th>feridos_leves</th>\n",
       "      <th>feridos_graves</th>\n",
       "      <th>ilesos</th>\n",
       "      <th>feridos</th>\n",
       "      <th>veiculos</th>\n",
       "    </tr>\n",
       "  </thead>\n",
       "  <tbody>\n",
       "    <tr>\n",
       "      <th>0</th>\n",
       "      <td>173720</td>\n",
       "      <td>2007-01-01</td>\n",
       "      <td>Segunda</td>\n",
       "      <td>01:45:00</td>\n",
       "      <td>RS</td>\n",
       "      <td>158.0</td>\n",
       "      <td>Não Guardar Distância De Segurança</td>\n",
       "      <td>Colisão Traseira</td>\n",
       "      <td>Plena Noite</td>\n",
       "      <td>Céu Claro</td>\n",
       "      <td>Reta</td>\n",
       "      <td>Urbano</td>\n",
       "      <td>4</td>\n",
       "      <td>0</td>\n",
       "      <td>0</td>\n",
       "      <td>0</td>\n",
       "      <td>4</td>\n",
       "      <td>0</td>\n",
       "      <td>4</td>\n",
       "    </tr>\n",
       "    <tr>\n",
       "      <th>1</th>\n",
       "      <td>173771</td>\n",
       "      <td>2007-01-01</td>\n",
       "      <td>Segunda</td>\n",
       "      <td>06:45:00</td>\n",
       "      <td>RS</td>\n",
       "      <td>386.0</td>\n",
       "      <td>Falta De Atenção</td>\n",
       "      <td>Colisão Transversal</td>\n",
       "      <td>Pleno Dia</td>\n",
       "      <td>Sol</td>\n",
       "      <td>Reta</td>\n",
       "      <td>Urbano</td>\n",
       "      <td>2</td>\n",
       "      <td>0</td>\n",
       "      <td>1</td>\n",
       "      <td>0</td>\n",
       "      <td>1</td>\n",
       "      <td>1</td>\n",
       "      <td>2</td>\n",
       "    </tr>\n",
       "    <tr>\n",
       "      <th>2</th>\n",
       "      <td>173838</td>\n",
       "      <td>2007-01-01</td>\n",
       "      <td>Segunda</td>\n",
       "      <td>07:30:00</td>\n",
       "      <td>RS</td>\n",
       "      <td>158.0</td>\n",
       "      <td>Outras</td>\n",
       "      <td>Colisão Lateral</td>\n",
       "      <td>Pleno Dia</td>\n",
       "      <td>Céu Claro</td>\n",
       "      <td>Reta</td>\n",
       "      <td>Urbano</td>\n",
       "      <td>5</td>\n",
       "      <td>0</td>\n",
       "      <td>2</td>\n",
       "      <td>2</td>\n",
       "      <td>1</td>\n",
       "      <td>4</td>\n",
       "      <td>2</td>\n",
       "    </tr>\n",
       "    <tr>\n",
       "      <th>3</th>\n",
       "      <td>173848</td>\n",
       "      <td>2007-01-01</td>\n",
       "      <td>Segunda</td>\n",
       "      <td>09:10:00</td>\n",
       "      <td>RS</td>\n",
       "      <td>386.0</td>\n",
       "      <td>Falta De Atenção</td>\n",
       "      <td>Colisão Transversal</td>\n",
       "      <td>Pleno Dia</td>\n",
       "      <td>Céu Claro</td>\n",
       "      <td>Reta</td>\n",
       "      <td>Rural</td>\n",
       "      <td>2</td>\n",
       "      <td>0</td>\n",
       "      <td>0</td>\n",
       "      <td>1</td>\n",
       "      <td>1</td>\n",
       "      <td>1</td>\n",
       "      <td>2</td>\n",
       "    </tr>\n",
       "    <tr>\n",
       "      <th>4</th>\n",
       "      <td>173859</td>\n",
       "      <td>2007-01-01</td>\n",
       "      <td>Segunda</td>\n",
       "      <td>08:00:00</td>\n",
       "      <td>RS</td>\n",
       "      <td>473.0</td>\n",
       "      <td>Falta De Atenção</td>\n",
       "      <td>Colisão Traseira</td>\n",
       "      <td>Pleno Dia</td>\n",
       "      <td>Céu Claro</td>\n",
       "      <td>Reta</td>\n",
       "      <td>Urbano</td>\n",
       "      <td>2</td>\n",
       "      <td>0</td>\n",
       "      <td>1</td>\n",
       "      <td>0</td>\n",
       "      <td>1</td>\n",
       "      <td>1</td>\n",
       "      <td>2</td>\n",
       "    </tr>\n",
       "  </tbody>\n",
       "</table>\n",
       "</div>"
      ],
      "text/plain": [
       "       id data_inversa dia_semana   horario  uf     br  \\\n",
       "0  173720   2007-01-01    Segunda  01:45:00  RS  158.0   \n",
       "1  173771   2007-01-01    Segunda  06:45:00  RS  386.0   \n",
       "2  173838   2007-01-01    Segunda  07:30:00  RS  158.0   \n",
       "3  173848   2007-01-01    Segunda  09:10:00  RS  386.0   \n",
       "4  173859   2007-01-01    Segunda  08:00:00  RS  473.0   \n",
       "\n",
       "                       causa_acidente        tipo_acidente     fase_dia  \\\n",
       "0  Não Guardar Distância De Segurança     Colisão Traseira  Plena Noite   \n",
       "1                    Falta De Atenção  Colisão Transversal    Pleno Dia   \n",
       "2                              Outras      Colisão Lateral    Pleno Dia   \n",
       "3                    Falta De Atenção  Colisão Transversal    Pleno Dia   \n",
       "4                    Falta De Atenção     Colisão Traseira    Pleno Dia   \n",
       "\n",
       "  condicao_metereologica tracado_via uso_solo  pessoas  mortos  feridos_leves  \\\n",
       "0              Céu Claro        Reta   Urbano        4       0              0   \n",
       "1                    Sol        Reta   Urbano        2       0              1   \n",
       "2              Céu Claro        Reta   Urbano        5       0              2   \n",
       "3              Céu Claro        Reta    Rural        2       0              0   \n",
       "4              Céu Claro        Reta   Urbano        2       0              1   \n",
       "\n",
       "   feridos_graves  ilesos  feridos  veiculos  \n",
       "0               0       4        0         4  \n",
       "1               0       1        1         2  \n",
       "2               2       1        4         2  \n",
       "3               1       1        1         2  \n",
       "4               0       1        1         2  "
      ]
     },
     "execution_count": 13,
     "metadata": {},
     "output_type": "execute_result"
    }
   ],
   "source": [
    "cols = ['id','data_inversa','dia_semana','horario','uf','br','causa_acidente','tipo_acidente','fase_dia',\n",
    "          'condicao_metereologica','tracado_via','uso_solo','pessoas','mortos','feridos_leves',\n",
    "          'feridos_graves','ilesos','feridos','veiculos']\n",
    "\n",
    "df_ocorrencias = pd.read_csv('archive/csv_ocorrencia_normalizado.csv', sep=',', engine='python', encoding='latin-1', usecols=cols)\n",
    "df_ocorrencias.head()"
   ]
  },
  {
   "cell_type": "markdown",
   "metadata": {},
   "source": [
    "# 2. Descrição e visualização das respostas"
   ]
  },
  {
   "cell_type": "markdown",
   "metadata": {},
   "source": [
    "## 2.1 Questões informativas/descritivas\n",
    "\n",
    "COMENTÁRIO DE TESTE\n",
    "\n",
    "**1) Quais dias da semana em que ocorrem mais acidentes em todo Brasil?**"
   ]
  },
  {
   "cell_type": "code",
   "execution_count": 1,
   "metadata": {},
   "outputs": [],
   "source": [
    "#teste 2"
   ]
  },
  {
   "cell_type": "markdown",
   "metadata": {},
   "source": [
    "**2) Quais meses ocorreram mais acidentes em todo Brasil?**"
   ]
  },
  {
   "cell_type": "code",
   "execution_count": null,
   "metadata": {},
   "outputs": [],
   "source": []
  },
  {
   "cell_type": "markdown",
   "metadata": {},
   "source": [
    "**3) Que tipos de acidentes tem maior ocorrência em todo Brasil?**"
   ]
  },
  {
   "cell_type": "code",
   "execution_count": null,
   "metadata": {},
   "outputs": [],
   "source": []
  },
  {
   "cell_type": "markdown",
   "metadata": {},
   "source": [
    "**4) Quais causas levaram a ocorrer mais acidentes no Brasil?**"
   ]
  },
  {
   "cell_type": "code",
   "execution_count": null,
   "metadata": {},
   "outputs": [],
   "source": []
  },
  {
   "cell_type": "markdown",
   "metadata": {},
   "source": [
    "**5) Que tipos de veículos mais se envolvem em acidentes? (motocicletas, automóveis ou caminhões)**"
   ]
  },
  {
   "cell_type": "code",
   "execution_count": null,
   "metadata": {},
   "outputs": [],
   "source": []
  },
  {
   "cell_type": "markdown",
   "metadata": {},
   "source": [
    "**6) Quais as marcas de veículos que se envolvem em acidentes por falha mecânica?**"
   ]
  },
  {
   "cell_type": "code",
   "execution_count": null,
   "metadata": {},
   "outputs": [],
   "source": []
  },
  {
   "cell_type": "markdown",
   "metadata": {},
   "source": [
    "**7) Veículos novos ou antigos se envolvem em mais acidentes?**"
   ]
  },
  {
   "cell_type": "code",
   "execution_count": null,
   "metadata": {},
   "outputs": [],
   "source": []
  },
  {
   "cell_type": "markdown",
   "metadata": {},
   "source": [
    "**8) Onde e em que condições precisamos ter mais atenção no trânsito?**"
   ]
  },
  {
   "cell_type": "code",
   "execution_count": null,
   "metadata": {},
   "outputs": [],
   "source": []
  },
  {
   "cell_type": "markdown",
   "metadata": {},
   "source": [
    "**9) Qual a faixa etária que mais se envolve em acidente?**"
   ]
  },
  {
   "cell_type": "code",
   "execution_count": null,
   "metadata": {},
   "outputs": [],
   "source": []
  },
  {
   "cell_type": "markdown",
   "metadata": {},
   "source": [
    "**10) Quais as causas de acidentes com maior taxa de mortalidade?**"
   ]
  },
  {
   "cell_type": "code",
   "execution_count": null,
   "metadata": {},
   "outputs": [],
   "source": []
  },
  {
   "cell_type": "markdown",
   "metadata": {},
   "source": [
    "## 2.2 Hipoteses"
   ]
  },
  {
   "cell_type": "markdown",
   "metadata": {},
   "source": [
    "**1) Os \"horários de pico\" são mais perigosos para transitar? Os horários diurnos são mais perigosos para transitar nos períodos noturnos.**"
   ]
  },
  {
   "cell_type": "code",
   "execution_count": null,
   "metadata": {},
   "outputs": [],
   "source": []
  },
  {
   "cell_type": "markdown",
   "metadata": {},
   "source": [
    "**2) Vésperas de datas comemorativas possuem um maior índice de acidentes (Brasil e RS).**"
   ]
  },
  {
   "cell_type": "code",
   "execution_count": null,
   "metadata": {},
   "outputs": [],
   "source": []
  },
  {
   "cell_type": "markdown",
   "metadata": {},
   "source": [
    "**3) A faixa etária de 20 - 30 anos é que mais se envolve em acidente causado por consumo alcoólico.**"
   ]
  },
  {
   "cell_type": "code",
   "execution_count": null,
   "metadata": {},
   "outputs": [],
   "source": []
  }
 ],
 "metadata": {
  "kernelspec": {
   "display_name": "Python 3",
   "language": "python",
   "name": "python3"
  },
  "language_info": {
   "codemirror_mode": {
    "name": "ipython",
    "version": 3
   },
   "file_extension": ".py",
   "mimetype": "text/x-python",
   "name": "python",
   "nbconvert_exporter": "python",
   "pygments_lexer": "ipython3",
   "version": "3.7.3"
  }
 },
 "nbformat": 4,
 "nbformat_minor": 4
}
